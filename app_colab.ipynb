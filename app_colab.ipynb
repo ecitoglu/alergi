{
  "nbformat": 4,
  "nbformat_minor": 0,
  "metadata": {
    "colab": {
      "name": "IEOR 135 Final Code.ipynb",
      "provenance": []
    },
    "kernelspec": {
      "name": "python3",
      "display_name": "Python 3"
    },
    "language_info": {
      "name": "python"
    }
  },
  "cells": [
    {
      "cell_type": "code",
      "metadata": {
        "colab": {
          "base_uri": "https://localhost:8080/"
        },
        "id": "wMO8HO9zfE89",
        "outputId": "79be2f47-d3e8-4729-ec2f-3470be8d2773"
      },
      "source": [
        "!sudo apt install tesseract-ocr\n",
        "!pip install pytesseract\n",
        "!pip install inflect\n",
        "!pip install gensim\n",
        "\n",
        "import os\n",
        "import pytesseract as pt \n",
        "import pandas as pd\n",
        "import numpy as np\n",
        "import matplotlib.pyplot as plt\n",
        "import matplotlib.image as mpimg\n",
        "import inflect\n",
        "import regex"
      ],
      "execution_count": 1,
      "outputs": [
        {
          "output_type": "stream",
          "text": [
            "Reading package lists... Done\n",
            "Building dependency tree       \n",
            "Reading state information... Done\n",
            "The following package was automatically installed and is no longer required:\n",
            "  libnvidia-common-460\n",
            "Use 'sudo apt autoremove' to remove it.\n",
            "The following additional packages will be installed:\n",
            "  tesseract-ocr-eng tesseract-ocr-osd\n",
            "The following NEW packages will be installed:\n",
            "  tesseract-ocr tesseract-ocr-eng tesseract-ocr-osd\n",
            "0 upgraded, 3 newly installed, 0 to remove and 34 not upgraded.\n",
            "Need to get 4,795 kB of archives.\n",
            "After this operation, 15.8 MB of additional disk space will be used.\n",
            "Get:1 http://archive.ubuntu.com/ubuntu bionic/universe amd64 tesseract-ocr-eng all 4.00~git24-0e00fe6-1.2 [1,588 kB]\n",
            "Get:2 http://archive.ubuntu.com/ubuntu bionic/universe amd64 tesseract-ocr-osd all 4.00~git24-0e00fe6-1.2 [2,989 kB]\n",
            "Get:3 http://archive.ubuntu.com/ubuntu bionic/universe amd64 tesseract-ocr amd64 4.00~git2288-10f4998a-2 [218 kB]\n",
            "Fetched 4,795 kB in 1s (4,448 kB/s)\n",
            "debconf: unable to initialize frontend: Dialog\n",
            "debconf: (No usable dialog-like program is installed, so the dialog based frontend cannot be used. at /usr/share/perl5/Debconf/FrontEnd/Dialog.pm line 76, <> line 3.)\n",
            "debconf: falling back to frontend: Readline\n",
            "debconf: unable to initialize frontend: Readline\n",
            "debconf: (This frontend requires a controlling tty.)\n",
            "debconf: falling back to frontend: Teletype\n",
            "dpkg-preconfigure: unable to re-open stdin: \n",
            "Selecting previously unselected package tesseract-ocr-eng.\n",
            "(Reading database ... 160690 files and directories currently installed.)\n",
            "Preparing to unpack .../tesseract-ocr-eng_4.00~git24-0e00fe6-1.2_all.deb ...\n",
            "Unpacking tesseract-ocr-eng (4.00~git24-0e00fe6-1.2) ...\n",
            "Selecting previously unselected package tesseract-ocr-osd.\n",
            "Preparing to unpack .../tesseract-ocr-osd_4.00~git24-0e00fe6-1.2_all.deb ...\n",
            "Unpacking tesseract-ocr-osd (4.00~git24-0e00fe6-1.2) ...\n",
            "Selecting previously unselected package tesseract-ocr.\n",
            "Preparing to unpack .../tesseract-ocr_4.00~git2288-10f4998a-2_amd64.deb ...\n",
            "Unpacking tesseract-ocr (4.00~git2288-10f4998a-2) ...\n",
            "Setting up tesseract-ocr-osd (4.00~git24-0e00fe6-1.2) ...\n",
            "Setting up tesseract-ocr-eng (4.00~git24-0e00fe6-1.2) ...\n",
            "Setting up tesseract-ocr (4.00~git2288-10f4998a-2) ...\n",
            "Processing triggers for man-db (2.8.3-2ubuntu0.1) ...\n",
            "Collecting pytesseract\n",
            "  Downloading https://files.pythonhosted.org/packages/a0/e6/a4e9fc8a93c1318540e8de6d8d4beb5749b7960388a7c7f27799fc2dd016/pytesseract-0.3.7.tar.gz\n",
            "Requirement already satisfied: Pillow in /usr/local/lib/python3.7/dist-packages (from pytesseract) (7.1.2)\n",
            "Building wheels for collected packages: pytesseract\n",
            "  Building wheel for pytesseract (setup.py) ... \u001b[?25l\u001b[?25hdone\n",
            "  Created wheel for pytesseract: filename=pytesseract-0.3.7-py2.py3-none-any.whl size=13945 sha256=90d685a8529450e2b94fdde0d2f15f60f988afa0a416f989fb424061cf2b53cd\n",
            "  Stored in directory: /root/.cache/pip/wheels/81/20/7e/1dd0daad1575d5260916bb1e9781246430647adaef4b3ca3b3\n",
            "Successfully built pytesseract\n",
            "Installing collected packages: pytesseract\n",
            "Successfully installed pytesseract-0.3.7\n",
            "Requirement already satisfied: inflect in /usr/local/lib/python3.7/dist-packages (2.1.0)\n",
            "Requirement already satisfied: gensim in /usr/local/lib/python3.7/dist-packages (3.6.0)\n",
            "Requirement already satisfied: numpy>=1.11.3 in /usr/local/lib/python3.7/dist-packages (from gensim) (1.19.5)\n",
            "Requirement already satisfied: six>=1.5.0 in /usr/local/lib/python3.7/dist-packages (from gensim) (1.15.0)\n",
            "Requirement already satisfied: smart-open>=1.2.1 in /usr/local/lib/python3.7/dist-packages (from gensim) (5.0.0)\n",
            "Requirement already satisfied: scipy>=0.18.1 in /usr/local/lib/python3.7/dist-packages (from gensim) (1.4.1)\n"
          ],
          "name": "stdout"
        }
      ]
    },
    {
      "cell_type": "code",
      "metadata": {
        "id": "jCoSKwxifLRw"
      },
      "source": [
        "allergies = pd.read_csv(\"FoodData.csv\")\n",
        "allergy_types = allergies.groupby(\"Allergy\", as_index = False).agg(list)[['Allergy','Food']]\n",
        "\n",
        "ingredient_coor = pd.read_csv('ingredient_coor.csv').drop('Unnamed: 0', axis = 1)\n",
        "ingredient_coor['name'] = ingredient_coor['name'].str.replace('[_]', ' ')\n",
        "\n",
        "\n",
        "#takes a string input of a food/ingredient name and returns the corresponding \n",
        "#allergy information if it is found in the allergies table.\n",
        "def search_food(food):\n",
        "  engine = inflect.engine()\n",
        "  if engine.singular_noun(food) != False:\n",
        "    food = engine.singular_noun(food)\n",
        "  if allergies['Food'].str.contains(food.capitalize()).any() == False:\n",
        "    return False\n",
        "  return True\n",
        "\n",
        "def lookup(menu_string):\n",
        "  split = menu_string.split('\\n\\n')\n",
        "  item_names = []\n",
        "  ingredient_matches = []\n",
        "  potential_matches = []\n",
        "  for item in split:\n",
        "    item_names.append(item.split('\\n')[0])\n",
        "    #print(item.split('\\n'))\n",
        "    ingredients = []\n",
        "    potential_found = []\n",
        "    for string in item.split('\\n'):\n",
        "      for word in string.split(' '):\n",
        "        #print(word)\n",
        "        word = regex.sub(\"[^a-zA-Z]+\", \"\", word.lower())\n",
        "        if search_food(word) == True:\n",
        "          ingredients.append(word)\n",
        "        else:\n",
        "          potential = most_similar(word, 50)\n",
        "          if potential.all() != False:\n",
        "            for i in potential:\n",
        "              if search_food(i) == True:\n",
        "                potential_found.append(i)\n",
        "    ingredient_matches.append(np.unique(np.array(ingredients)))\n",
        "    potential_matches.append(np.unique(np.array(potential_found)))\n",
        "  lookup_table = pd.DataFrame(data = {'Item Name': item_names, 'Ingredient Matches': ingredient_matches, 'Potential Allergen Matches' : potential_matches})\n",
        "  return lookup_table\n",
        "\n",
        "def edible(allergy_type):\n",
        "  if type(allergy_type) == str:\n",
        "    if np.array([allergy_types['Allergy'].str.contains(x) for x in allergy_type]).any() == True:\n",
        "      allergens = allergy_types[allergy_types['Allergy'] == allergy_type]['Food'].iloc[0]\n",
        "  else:\n",
        "    allergens = np.array(allergy_type)\n",
        "  return allergens\n",
        "\n",
        "\n",
        "def minus_allergens(menu_image, allergens):\n",
        "  menu_string = pt.image_to_string(menu_image, timeout=10)\n",
        "  engine = inflect.engine()\n",
        "  allergies = edible(allergens)\n",
        "  lookup_df = lookup(menu_string)\n",
        "  allergen_included = []\n",
        "  allergens_detected = []\n",
        "  allergen_matches = []\n",
        "  potential_included = []\n",
        "  potential_detected = []\n",
        "  for dish in lookup_df['Ingredient Matches']:\n",
        "    alg = []\n",
        "    inc = False\n",
        "    for food in dish:\n",
        "      if engine.singular_noun(food) != False:\n",
        "        current_food = engine.singular_noun(food).capitalize()\n",
        "      else:\n",
        "        current_food = food.capitalize()\n",
        "      if current_food in allergies:\n",
        "        inc = True\n",
        "        alg.append(current_food)\n",
        "    allergen_included.append(inc)\n",
        "    allergens_detected.append(alg)\n",
        "  for dish in lookup_df['Potential Allergen Matches']:\n",
        "    alg2 = []\n",
        "    inc2 = False\n",
        "    for food in dish:\n",
        "      if engine.singular_noun(food) != False:\n",
        "        current_food2 = engine.singular_noun(food).capitalize()\n",
        "      else:\n",
        "        current_food2 = food.capitalize()\n",
        "      if current_food2 in allergies:\n",
        "        inc2 = True\n",
        "        alg2.append(current_food2)\n",
        "    potential_included.append(inc2)\n",
        "    potential_detected.append(alg2)\n",
        "  lookup_df['Allergen Included?'] = allergen_included\n",
        "  lookup_df['Allergens Detected'] = allergens_detected\n",
        "  lookup_df['Potential Allergen Included?'] = potential_included\n",
        "  lookup_df['Potential Allergen Detected'] = potential_detected\n",
        "  return lookup_df\n",
        "  \n",
        "\n",
        "def euc_dist(food1, food2):\n",
        "  food1_x = ingredient_coor[ingredient_coor['name'] == food1]['x'].values[0]\n",
        "  food1_y = ingredient_coor[ingredient_coor['name'] == food1]['y'].values[0]\n",
        "  food2_x = ingredient_coor[ingredient_coor['name'] == food2]['x'].values[0]\n",
        "  food2_y = ingredient_coor[ingredient_coor['name'] == food2]['y'].values[0]\n",
        "  return np.sqrt((food1_x - food2_x)**2 + (food1_y - food2_y)**2)\n",
        "\n",
        "#takes in word and returns n most similar ingredients\n",
        "def most_similar(word, n):\n",
        "  word = word.lower()\n",
        "  if word not in np.array(ingredient_coor['name']):\n",
        "    return np.array([False])\n",
        "  #print(np.array(ingredient_coor['name']))\n",
        "  ingredient_coor['dist'] = [euc_dist(word, i) for i in np.array(ingredient_coor['name'])]\n",
        "  ingredients = ingredient_coor.sort_values('dist', ascending = True)\n",
        "  return ingredients.iloc[1:n+1]['name'].values\n"
      ],
      "execution_count": 111,
      "outputs": []
    },
    {
      "cell_type": "code",
      "metadata": {
        "colab": {
          "base_uri": "https://localhost:8080/"
        },
        "id": "H_KcLHbaFu5j",
        "outputId": "3c1e85ae-aef1-4fc8-d11d-e155f9a35b82"
      },
      "source": [
        "'hummus' in np.array(ingredient_coor['name'])"
      ],
      "execution_count": 93,
      "outputs": [
        {
          "output_type": "execute_result",
          "data": {
            "text/plain": [
              "True"
            ]
          },
          "metadata": {
            "tags": []
          },
          "execution_count": 93
        }
      ]
    },
    {
      "cell_type": "code",
      "metadata": {
        "colab": {
          "base_uri": "https://localhost:8080/"
        },
        "id": "LZIvxH8xO425",
        "outputId": "db67252f-c119-4711-85e2-5338e4547d16"
      },
      "source": [
        "o = 'onion'\n",
        "o.capitalize() in ['Potato', 'Bean', 'Onion']"
      ],
      "execution_count": 101,
      "outputs": [
        {
          "output_type": "execute_result",
          "data": {
            "text/plain": [
              "True"
            ]
          },
          "metadata": {
            "tags": []
          },
          "execution_count": 101
        }
      ]
    },
    {
      "cell_type": "code",
      "metadata": {
        "colab": {
          "base_uri": "https://localhost:8080/"
        },
        "id": "FQpzeEazHN-Z",
        "outputId": "fcbae54a-a38e-494a-8f29-f08d01283241"
      },
      "source": [
        "food1_x = ingredient_coor[ingredient_coor['name'] == 'hummus']['x'].values[0]\n",
        "food1_x"
      ],
      "execution_count": 86,
      "outputs": [
        {
          "output_type": "execute_result",
          "data": {
            "text/plain": [
              "-30.48619"
            ]
          },
          "metadata": {
            "tags": []
          },
          "execution_count": 86
        }
      ]
    },
    {
      "cell_type": "code",
      "metadata": {
        "colab": {
          "base_uri": "https://localhost:8080/"
        },
        "id": "oabsjpJSFUud",
        "outputId": "19ddf47d-f56f-4d83-e781-25ca45252ed4"
      },
      "source": [
        "most_similar('hummus', 20)\n"
      ],
      "execution_count": 87,
      "outputs": [
        {
          "output_type": "execute_result",
          "data": {
            "text/plain": [
              "array(['greek style vinaigrette', 'pita rounds', 'pita chips',\n",
              "       'balsamico bianco', 'greek seasoning', 'flatbread', 'pitas',\n",
              "       'tzatziki', 'crackers', 'hearts of romaine',\n",
              "       'vinaigrette dressing', 'sumac', 'breadstick', 'golden beets',\n",
              "       'caesar salad dressing', 'peperoncini', 'hoagie rolls', 'crostini',\n",
              "       'mixed greens', 'flounder fillets'], dtype=object)"
            ]
          },
          "metadata": {
            "tags": []
          },
          "execution_count": 87
        }
      ]
    },
    {
      "cell_type": "code",
      "metadata": {
        "colab": {
          "base_uri": "https://localhost:8080/",
          "height": 559
        },
        "id": "kgZYqYNNf4Fh",
        "outputId": "06f98d2b-7b7a-4d4e-bb86-d9cd402921cb"
      },
      "source": [
        "processed_df = minus_allergens('lazy dog menu.PNG', ['Potato', 'Bean', 'Onion'])\n",
        "processed_df"
      ],
      "execution_count": 112,
      "outputs": [
        {
          "output_type": "execute_result",
          "data": {
            "text/html": [
              "<div>\n",
              "<style scoped>\n",
              "    .dataframe tbody tr th:only-of-type {\n",
              "        vertical-align: middle;\n",
              "    }\n",
              "\n",
              "    .dataframe tbody tr th {\n",
              "        vertical-align: top;\n",
              "    }\n",
              "\n",
              "    .dataframe thead th {\n",
              "        text-align: right;\n",
              "    }\n",
              "</style>\n",
              "<table border=\"1\" class=\"dataframe\">\n",
              "  <thead>\n",
              "    <tr style=\"text-align: right;\">\n",
              "      <th></th>\n",
              "      <th>Item Name</th>\n",
              "      <th>Ingredient Matches</th>\n",
              "      <th>Potential Allergen Matches</th>\n",
              "      <th>Allergen Included?</th>\n",
              "      <th>Allergens Detected</th>\n",
              "      <th>Potential Allergen Included?</th>\n",
              "      <th>Potential Allergen Detected</th>\n",
              "    </tr>\n",
              "  </thead>\n",
              "  <tbody>\n",
              "    <tr>\n",
              "      <th>0</th>\n",
              "      <td>STARTER</td>\n",
              "      <td>[]</td>\n",
              "      <td>[]</td>\n",
              "      <td>False</td>\n",
              "      <td>[]</td>\n",
              "      <td>False</td>\n",
              "      <td>[]</td>\n",
              "    </tr>\n",
              "    <tr>\n",
              "      <th>1</th>\n",
              "      <td>CAJUN FRIES</td>\n",
              "      <td>[]</td>\n",
              "      <td>[chicken, garlic, kidney beans, lime, pepper, ...</td>\n",
              "      <td>False</td>\n",
              "      <td>[]</td>\n",
              "      <td>False</td>\n",
              "      <td>[]</td>\n",
              "    </tr>\n",
              "    <tr>\n",
              "      <th>2</th>\n",
              "      <td>BRICK OVEN SPINACH &amp; SUNDRIED TOMATO CHEESE DIP</td>\n",
              "      <td>[, cheese, cheeses, corn, spinach, tomato]</td>\n",
              "      <td>[avocado, lettuce, onion, onions, tomatoes]</td>\n",
              "      <td>False</td>\n",
              "      <td>[]</td>\n",
              "      <td>True</td>\n",
              "      <td>[Onion, Onion]</td>\n",
              "    </tr>\n",
              "    <tr>\n",
              "      <th>3</th>\n",
              "      <td>HUMMUS TRIOZP</td>\n",
              "      <td>[]</td>\n",
              "      <td>[horseradish]</td>\n",
              "      <td>False</td>\n",
              "      <td>[]</td>\n",
              "      <td>False</td>\n",
              "      <td>[]</td>\n",
              "    </tr>\n",
              "    <tr>\n",
              "      <th>4</th>\n",
              "      <td>Atrio of walnut-pesto, sundried tomato and tra...</td>\n",
              "      <td>[, tomato]</td>\n",
              "      <td>[horseradish]</td>\n",
              "      <td>False</td>\n",
              "      <td>[]</td>\n",
              "      <td>False</td>\n",
              "      <td>[]</td>\n",
              "    </tr>\n",
              "    <tr>\n",
              "      <th>5</th>\n",
              "      <td>with garlic flatbread, sliced cucumbers and to...</td>\n",
              "      <td>[, cucumbers, garlic, tomatoes]</td>\n",
              "      <td>[broad beans, horseradish, lemon, shells]</td>\n",
              "      <td>False</td>\n",
              "      <td>[]</td>\n",
              "      <td>False</td>\n",
              "      <td>[]</td>\n",
              "    </tr>\n",
              "    <tr>\n",
              "      <th>6</th>\n",
              "      <td>Tender calamari strips tossed with sweet soy p...</td>\n",
              "      <td>[, green, onions, peanuts, peppers, rice, sesa...</td>\n",
              "      <td>[broad beans, chicken, garlic, kidney beans, l...</td>\n",
              "      <td>True</td>\n",
              "      <td>[Onion]</td>\n",
              "      <td>True</td>\n",
              "      <td>[Onion, Onion]</td>\n",
              "    </tr>\n",
              "    <tr>\n",
              "      <th>7</th>\n",
              "      <td>HAND-BREADED CHICKEN TENDERS</td>\n",
              "      <td>[, buttermilk, chicken, honey]</td>\n",
              "      <td>[]</td>\n",
              "      <td>False</td>\n",
              "      <td>[]</td>\n",
              "      <td>False</td>\n",
              "      <td>[]</td>\n",
              "    </tr>\n",
              "    <tr>\n",
              "      <th>8</th>\n",
              "      <td>HAWAIIAN AHI POKE</td>\n",
              "      <td>[]</td>\n",
              "      <td>[mitsuba, sesame seeds]</td>\n",
              "      <td>False</td>\n",
              "      <td>[]</td>\n",
              "      <td>False</td>\n",
              "      <td>[]</td>\n",
              "    </tr>\n",
              "    <tr>\n",
              "      <th>9</th>\n",
              "      <td>Sashimi grade ahi tuna tossed with sesame pean...</td>\n",
              "      <td>[, a, avocado, green, on, onions, peanut, sesa...</td>\n",
              "      <td>[chicken, cranberry, garlic, horseradish, lima...</td>\n",
              "      <td>True</td>\n",
              "      <td>[Onion]</td>\n",
              "      <td>True</td>\n",
              "      <td>[Onion, Onion]</td>\n",
              "    </tr>\n",
              "    <tr>\n",
              "      <th>10</th>\n",
              "      <td>CHICKEN LETTUCE WRAPS</td>\n",
              "      <td>[chicken, lettuce]</td>\n",
              "      <td>[]</td>\n",
              "      <td>False</td>\n",
              "      <td>[]</td>\n",
              "      <td>False</td>\n",
              "      <td>[]</td>\n",
              "    </tr>\n",
              "    <tr>\n",
              "      <th>11</th>\n",
              "      <td>Ground chicken breast, water chestnuts, peanut...</td>\n",
              "      <td>[, carrots, chestnuts, chicken, cucumber, gree...</td>\n",
              "      <td>[chicken, garlic, lime, onion, onions, pepper,...</td>\n",
              "      <td>True</td>\n",
              "      <td>[Onion]</td>\n",
              "      <td>True</td>\n",
              "      <td>[Onion, Onion]</td>\n",
              "    </tr>\n",
              "    <tr>\n",
              "      <th>12</th>\n",
              "      <td>INSIDE-OUT QUESADILLA</td>\n",
              "      <td>[, cheeses, cream, sour]</td>\n",
              "      <td>[avocado]</td>\n",
              "      <td>False</td>\n",
              "      <td>[]</td>\n",
              "      <td>False</td>\n",
              "      <td>[]</td>\n",
              "    </tr>\n",
              "    <tr>\n",
              "      <th>13</th>\n",
              "      <td>CHIPOTLE CHICKEN QUESADILLA</td>\n",
              "      <td>[, chicken, cream, sour]</td>\n",
              "      <td>[avocado]</td>\n",
              "      <td>False</td>\n",
              "      <td>[]</td>\n",
              "      <td>False</td>\n",
              "      <td>[]</td>\n",
              "    </tr>\n",
              "    <tr>\n",
              "      <th>14</th>\n",
              "      <td>CHICKEN CHILE VERDE NACHOS</td>\n",
              "      <td>[chicken]</td>\n",
              "      <td>[]</td>\n",
              "      <td>False</td>\n",
              "      <td>[]</td>\n",
              "      <td>False</td>\n",
              "      <td>[]</td>\n",
              "    </tr>\n",
              "    <tr>\n",
              "      <th>15</th>\n",
              "      <td>Handcut tortilla chips layered with shredded t...</td>\n",
              "      <td>[, beans, black, cheeses, chicken]</td>\n",
              "      <td>[avocado, lettuce, onion, onions, tomatoes]</td>\n",
              "      <td>True</td>\n",
              "      <td>[Bean]</td>\n",
              "      <td>True</td>\n",
              "      <td>[Onion, Onion]</td>\n",
              "    </tr>\n",
              "    <tr>\n",
              "      <th>16</th>\n",
              "      <td>CRISPY WINGS</td>\n",
              "      <td>[]</td>\n",
              "      <td>[]</td>\n",
              "      <td>False</td>\n",
              "      <td>[]</td>\n",
              "      <td>False</td>\n",
              "      <td>[]</td>\n",
              "    </tr>\n",
              "    <tr>\n",
              "      <th>17</th>\n",
              "      <td>Tender chicken wings, seasoned and fried until...</td>\n",
              "      <td>[, a, carrot, celery, cheese, chicken, on]</td>\n",
              "      <td>[goat, lime, radishes]</td>\n",
              "      <td>False</td>\n",
              "      <td>[]</td>\n",
              "      <td>False</td>\n",
              "      <td>[]</td>\n",
              "    </tr>\n",
              "  </tbody>\n",
              "</table>\n",
              "</div>"
            ],
            "text/plain": [
              "                                            Item Name  ... Potential Allergen Detected\n",
              "0                                             STARTER  ...                          []\n",
              "1                                         CAJUN FRIES  ...                          []\n",
              "2     BRICK OVEN SPINACH & SUNDRIED TOMATO CHEESE DIP  ...              [Onion, Onion]\n",
              "3                                       HUMMUS TRIOZP  ...                          []\n",
              "4   Atrio of walnut-pesto, sundried tomato and tra...  ...                          []\n",
              "5   with garlic flatbread, sliced cucumbers and to...  ...                          []\n",
              "6   Tender calamari strips tossed with sweet soy p...  ...              [Onion, Onion]\n",
              "7                        HAND-BREADED CHICKEN TENDERS  ...                          []\n",
              "8                                   HAWAIIAN AHI POKE  ...                          []\n",
              "9   Sashimi grade ahi tuna tossed with sesame pean...  ...              [Onion, Onion]\n",
              "10                              CHICKEN LETTUCE WRAPS  ...                          []\n",
              "11  Ground chicken breast, water chestnuts, peanut...  ...              [Onion, Onion]\n",
              "12                              INSIDE-OUT QUESADILLA  ...                          []\n",
              "13                        CHIPOTLE CHICKEN QUESADILLA  ...                          []\n",
              "14                         CHICKEN CHILE VERDE NACHOS  ...                          []\n",
              "15  Handcut tortilla chips layered with shredded t...  ...              [Onion, Onion]\n",
              "16                                       CRISPY WINGS  ...                          []\n",
              "17  Tender chicken wings, seasoned and fried until...  ...                          []\n",
              "\n",
              "[18 rows x 7 columns]"
            ]
          },
          "metadata": {
            "tags": []
          },
          "execution_count": 112
        }
      ]
    },
    {
      "cell_type": "code",
      "metadata": {
        "id": "Fakz4CjX-zU4"
      },
      "source": [
        ""
      ],
      "execution_count": 8,
      "outputs": []
    },
    {
      "cell_type": "code",
      "metadata": {
        "id": "70JF1u2awBDn"
      },
      "source": [
        ""
      ],
      "execution_count": 8,
      "outputs": []
    },
    {
      "cell_type": "code",
      "metadata": {
        "id": "PxkWoOEP5GNr"
      },
      "source": [
        ""
      ],
      "execution_count": null,
      "outputs": []
    }
  ]
}